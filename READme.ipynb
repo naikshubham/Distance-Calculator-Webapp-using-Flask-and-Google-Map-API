{
 "cells": [
  {
   "cell_type": "markdown",
   "metadata": {},
   "source": [
    "# Distance Calculator Webapp using Flask and Google Map API\n"
   ]
  },
  {
   "cell_type": "markdown",
   "metadata": {},
   "source": [
    "- Google Map Distance Matrix API is a service that provides travel distance and time taken to reach destination. This API returns the recommended route(not detailed) between origin and destination, consists of duration and distance values for each pair.\n",
    "\n",
    "- To use this API, one must need the API key, which can be get from https://developers.google.com/maps/documentation/distance-matrix/get-api-key"
   ]
  },
  {
   "cell_type": "markdown",
   "metadata": {},
   "source": [
    "## Packages required"
   ]
  },
  {
   "cell_type": "markdown",
   "metadata": {},
   "source": [
    "- Programming language - Python\n",
    "- Flask\n",
    "- googlemaps\n",
    "- datetime"
   ]
  },
  {
   "cell_type": "markdown",
   "metadata": {},
   "source": [
    "Using googlemaps module :\n",
    "- Distance between two places can also be calculated using googlemaps module.\n",
    "\n",
    "- Command to install googlemaps module :<br>\n",
    "pip install googlemaps"
   ]
  },
  {
   "cell_type": "markdown",
   "metadata": {},
   "source": [
    "## Results\n",
    "\n",
    "- Start page\n",
    "<img src='result_1.JPG'>\n",
    "\n",
    "- Enter source and destinations\n",
    "<img src='result_2.JPG'>\n",
    "\n",
    "- Result\n",
    "<img src='result_3.JPG'>"
   ]
  }
 ],
 "metadata": {
  "kernelspec": {
   "display_name": "Python 3",
   "language": "python",
   "name": "python3"
  },
  "language_info": {
   "codemirror_mode": {
    "name": "ipython",
    "version": 3
   },
   "file_extension": ".py",
   "mimetype": "text/x-python",
   "name": "python",
   "nbconvert_exporter": "python",
   "pygments_lexer": "ipython3",
   "version": "3.6.5"
  }
 },
 "nbformat": 4,
 "nbformat_minor": 2
}
